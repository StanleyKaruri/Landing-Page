{
  "nbformat": 4,
  "nbformat_minor": 0,
  "metadata": {
    "colab": {
      "provenance": [],
      "authorship_tag": "ABX9TyMoMKZuOZ7VLTsXCM06ZsGL",
      "include_colab_link": true
    },
    "kernelspec": {
      "name": "python3",
      "display_name": "Python 3"
    },
    "language_info": {
      "name": "python"
    }
  },
  "cells": [
    {
      "cell_type": "markdown",
      "metadata": {
        "id": "view-in-github",
        "colab_type": "text"
      },
      "source": [
        "<a href=\"https://colab.research.google.com/github/StanleyKaruri/Landing-Page/blob/main/signLanguage_to_Audio_translation.ipynb\" target=\"_parent\"><img src=\"https://colab.research.google.com/assets/colab-badge.svg\" alt=\"Open In Colab\"/></a>"
      ]
    },
    {
      "cell_type": "code",
      "execution_count": null,
      "metadata": {
        "id": "1pkcwln4ljy2"
      },
      "outputs": [],
      "source": [
        "!apt-get update\n",
        "!apt-get upgrade\n",
        "!apt-get install python3-venv"
      ]
    },
    {
      "cell_type": "code",
      "source": [
        "!mkdir SignLanguage"
      ],
      "metadata": {
        "id": "vJguKkJiolO_"
      },
      "execution_count": 2,
      "outputs": []
    },
    {
      "cell_type": "code",
      "source": [
        "!cd SignLanguage"
      ],
      "metadata": {
        "id": "Nwk_4Dd9ov9q"
      },
      "execution_count": 3,
      "outputs": []
    },
    {
      "cell_type": "code",
      "source": [
        "!python3 -m venv signlanguage"
      ],
      "metadata": {
        "id": "DUIWex8Uo6e4"
      },
      "execution_count": 4,
      "outputs": []
    },
    {
      "cell_type": "code",
      "source": [
        "!source signlanguage/bin/activate"
      ],
      "metadata": {
        "id": "W5C98yDvpMvk"
      },
      "execution_count": 5,
      "outputs": []
    },
    {
      "cell_type": "code",
      "source": [
        "!pip3 install torch torchvision"
      ],
      "metadata": {
        "id": "FeorBwLTprG2"
      },
      "execution_count": null,
      "outputs": []
    },
    {
      "cell_type": "code",
      "source": [
        "!pip install opencv-python-headless\n",
        "!apt-get install -y libsm6 libxext6 libxrender-dev\n",
        "!pip install numpy\n",
        "!pip install onnx\n"
      ],
      "metadata": {
        "id": "z89Mnxwrp0Zm"
      },
      "execution_count": null,
      "outputs": []
    },
    {
      "cell_type": "code",
      "source": [
        "!wget https://assets.digitalocean.com/articles/signlanguage_data/sign-language-mnist.tar.gz"
      ],
      "metadata": {
        "id": "YXVFXEsEsXwL"
      },
      "execution_count": null,
      "outputs": []
    },
    {
      "cell_type": "code",
      "source": [
        "!tar -xzf sign-language-mnist.tar.gz"
      ],
      "metadata": {
        "colab": {
          "base_uri": "https://localhost:8080/"
        },
        "id": "saq6gEIxs6Ma",
        "outputId": "99a78d67-e5cf-4fe9-f9b8-163e2f641b88"
      },
      "execution_count": 12,
      "outputs": [
        {
          "output_type": "stream",
          "name": "stdout",
          "text": [
            "tar: Ignoring unknown extended header keyword 'LIBARCHIVE.creationtime'\n",
            "tar: Ignoring unknown extended header keyword 'SCHILY.dev'\n",
            "tar: Ignoring unknown extended header keyword 'SCHILY.ino'\n",
            "tar: Ignoring unknown extended header keyword 'SCHILY.nlink'\n",
            "tar: Ignoring unknown extended header keyword 'SCHILY.dev'\n",
            "tar: Ignoring unknown extended header keyword 'SCHILY.ino'\n",
            "tar: Ignoring unknown extended header keyword 'SCHILY.nlink'\n",
            "tar: Ignoring unknown extended header keyword 'SCHILY.dev'\n",
            "tar: Ignoring unknown extended header keyword 'SCHILY.ino'\n",
            "tar: Ignoring unknown extended header keyword 'SCHILY.nlink'\n",
            "tar: Ignoring unknown extended header keyword 'SCHILY.dev'\n",
            "tar: Ignoring unknown extended header keyword 'SCHILY.ino'\n",
            "tar: Ignoring unknown extended header keyword 'SCHILY.nlink'\n",
            "tar: Ignoring unknown extended header keyword 'SCHILY.dev'\n",
            "tar: Ignoring unknown extended header keyword 'SCHILY.ino'\n",
            "tar: Ignoring unknown extended header keyword 'SCHILY.nlink'\n"
          ]
        }
      ]
    },
    {
      "cell_type": "code",
      "source": [
        "!touch dataset.py"
      ],
      "metadata": {
        "id": "nFj7gZfXtGcf"
      },
      "execution_count": 11,
      "outputs": []
    },
    {
      "cell_type": "code",
      "source": [
        "!python dataset.py"
      ],
      "metadata": {
        "colab": {
          "base_uri": "https://localhost:8080/"
        },
        "id": "C6sX38A1v77a",
        "outputId": "66ebb1f3-32d0-400a-b5c4-6204a67f6507"
      },
      "execution_count": 17,
      "outputs": [
        {
          "output_type": "stream",
          "name": "stdout",
          "text": [
            "{'image': tensor([[[[-1.6555, -2.0665, -1.7412,  ..., -0.0116,  0.0227,  0.0398],\n",
            "          [-1.8610, -2.0837, -1.6727,  ...,  0.0569,  0.0569,  0.0569],\n",
            "          [-2.0494, -2.1179, -1.6727,  ...,  0.0741,  0.0912,  0.0912],\n",
            "          ...,\n",
            "          [-1.4500, -1.4500, -1.3473,  ...,  0.5878,  0.6049,  0.6221],\n",
            "          [-1.4672, -1.4500, -1.3473,  ...,  0.6221,  0.6221,  0.6049],\n",
            "          [-1.5185, -1.4672, -1.3644,  ...,  0.5878,  0.5878,  0.6049]]],\n",
            "\n",
            "\n",
            "        [[[ 0.5536,  0.5707,  0.5878,  ...,  0.6049,  0.6049,  0.5878],\n",
            "          [ 0.6049,  0.6392,  0.6392,  ...,  0.6563,  0.6563,  0.6221],\n",
            "          [ 0.6563,  0.6906,  0.7077,  ...,  0.7077,  0.6906,  0.6734],\n",
            "          ...,\n",
            "          [-0.5424, -0.5424, -0.5082,  ..., -0.3712, -0.3198, -0.3369],\n",
            "          [-0.3883, -0.4226, -0.4226,  ..., -0.4226, -0.5082, -0.4397],\n",
            "          [-0.4226, -0.4568, -0.4397,  ..., -0.0801,  0.3994,  0.9817]]]]), 'label': tensor([[19.],\n",
            "        [ 9.]])}\n"
          ]
        }
      ]
    },
    {
      "cell_type": "code",
      "source": [
        "!touch train.py"
      ],
      "metadata": {
        "id": "ZECxHWXGwLnc"
      },
      "execution_count": 19,
      "outputs": []
    },
    {
      "cell_type": "code",
      "source": [
        "!python train.py"
      ],
      "metadata": {
        "colab": {
          "base_uri": "https://localhost:8080/"
        },
        "id": "P0ewJtDOh472",
        "outputId": "18394756-8911-479c-e7f0-66355cbb890a"
      },
      "execution_count": 21,
      "outputs": [
        {
          "output_type": "stream",
          "name": "stdout",
          "text": [
            "[0,     0] loss: 3.244743\n",
            "[0,   100] loss: 3.201659\n",
            "[0,   200] loss: 3.045578\n",
            "[0,   300] loss: 2.787753\n",
            "[0,   400] loss: 2.517547\n",
            "[0,   500] loss: 2.282495\n",
            "[0,   600] loss: 2.083695\n",
            "[0,   700] loss: 1.907068\n",
            "[0,   800] loss: 1.752230\n",
            "[1,     0] loss: 0.747828\n",
            "[1,   100] loss: 0.541282\n",
            "[1,   200] loss: 0.493116\n",
            "[1,   300] loss: 0.463312\n",
            "[1,   400] loss: 0.439455\n",
            "[1,   500] loss: 0.419473\n",
            "[1,   600] loss: 0.394077\n",
            "[1,   700] loss: 0.378518\n",
            "[1,   800] loss: 0.362101\n",
            "[2,     0] loss: 0.114270\n",
            "[2,   100] loss: 0.153797\n",
            "[2,   200] loss: 0.161097\n",
            "[2,   300] loss: 0.162196\n",
            "[2,   400] loss: 0.165523\n",
            "[2,   500] loss: 0.163788\n",
            "[2,   600] loss: 0.165242\n",
            "[2,   700] loss: 0.159829\n",
            "[2,   800] loss: 0.155293\n",
            "[3,     0] loss: 0.128647\n",
            "[3,   100] loss: 0.112167\n",
            "[3,   200] loss: 0.119639\n",
            "[3,   300] loss: 0.123063\n",
            "[3,   400] loss: 0.117756\n",
            "[3,   500] loss: 0.112110\n",
            "[3,   600] loss: 0.114739\n",
            "[3,   700] loss: 0.111992\n",
            "[3,   800] loss: 0.110621\n",
            "[4,     0] loss: 0.074981\n",
            "[4,   100] loss: 0.098072\n",
            "[4,   200] loss: 0.094426\n",
            "[4,   300] loss: 0.099140\n",
            "[4,   400] loss: 0.089757\n",
            "[4,   500] loss: 0.091987\n",
            "[4,   600] loss: 0.088368\n",
            "[4,   700] loss: 0.086777\n",
            "[4,   800] loss: 0.085580\n",
            "[5,     0] loss: 0.001468\n",
            "[5,   100] loss: 0.097632\n",
            "[5,   200] loss: 0.090172\n",
            "[5,   300] loss: 0.080302\n",
            "[5,   400] loss: 0.073372\n",
            "[5,   500] loss: 0.070966\n",
            "[5,   600] loss: 0.070958\n",
            "[5,   700] loss: 0.070405\n",
            "[5,   800] loss: 0.070137\n",
            "[6,     0] loss: 0.010101\n",
            "[6,   100] loss: 0.063949\n",
            "[6,   200] loss: 0.062271\n",
            "[6,   300] loss: 0.060260\n",
            "[6,   400] loss: 0.056834\n",
            "[6,   500] loss: 0.059678\n",
            "[6,   600] loss: 0.057806\n",
            "[6,   700] loss: 0.059221\n",
            "[6,   800] loss: 0.058881\n",
            "[7,     0] loss: 0.004507\n",
            "[7,   100] loss: 0.052970\n",
            "[7,   200] loss: 0.055470\n",
            "[7,   300] loss: 0.053337\n",
            "[7,   400] loss: 0.048172\n",
            "[7,   500] loss: 0.048569\n",
            "[7,   600] loss: 0.050350\n",
            "[7,   700] loss: 0.050279\n",
            "[7,   800] loss: 0.052531\n",
            "[8,     0] loss: 0.105444\n",
            "[8,   100] loss: 0.037291\n",
            "[8,   200] loss: 0.057313\n",
            "[8,   300] loss: 0.056557\n",
            "[8,   400] loss: 0.052477\n",
            "[8,   500] loss: 0.055021\n",
            "[8,   600] loss: 0.054393\n",
            "[8,   700] loss: 0.053541\n",
            "[8,   800] loss: 0.051590\n",
            "[9,     0] loss: 0.026966\n",
            "[9,   100] loss: 0.038503\n",
            "[9,   200] loss: 0.037567\n",
            "[9,   300] loss: 0.034531\n",
            "[9,   400] loss: 0.037960\n",
            "[9,   500] loss: 0.044396\n",
            "[9,   600] loss: 0.044785\n",
            "[9,   700] loss: 0.046659\n",
            "[9,   800] loss: 0.045922\n",
            "[10,     0] loss: 0.026423\n",
            "[10,   100] loss: 0.018140\n",
            "[10,   200] loss: 0.014825\n",
            "[10,   300] loss: 0.013612\n",
            "[10,   400] loss: 0.012773\n",
            "[10,   500] loss: 0.011702\n",
            "[10,   600] loss: 0.011299\n",
            "[10,   700] loss: 0.011083\n",
            "[10,   800] loss: 0.011008\n",
            "[11,     0] loss: 0.009757\n",
            "[11,   100] loss: 0.010659\n",
            "[11,   200] loss: 0.009537\n",
            "[11,   300] loss: 0.011262\n",
            "[11,   400] loss: 0.009969\n",
            "[11,   500] loss: 0.010276\n",
            "[11,   600] loss: 0.009681\n",
            "[11,   700] loss: 0.010703\n",
            "[11,   800] loss: 0.009948\n",
            "[12,     0] loss: 0.000193\n",
            "[12,   100] loss: 0.009127\n",
            "[12,   200] loss: 0.009096\n",
            "[12,   300] loss: 0.008655\n",
            "[12,   400] loss: 0.008845\n",
            "[12,   500] loss: 0.008295\n",
            "[12,   600] loss: 0.007548\n",
            "[12,   700] loss: 0.007966\n",
            "[12,   800] loss: 0.007427\n",
            "[13,     0] loss: 0.001267\n",
            "[13,   100] loss: 0.012320\n",
            "[13,   200] loss: 0.008311\n",
            "[13,   300] loss: 0.007438\n",
            "[13,   400] loss: 0.008052\n",
            "[13,   500] loss: 0.007268\n",
            "[13,   600] loss: 0.006967\n",
            "[13,   700] loss: 0.006483\n",
            "[13,   800] loss: 0.006375\n",
            "[14,     0] loss: 0.022956\n",
            "[14,   100] loss: 0.004321\n",
            "[14,   200] loss: 0.005151\n",
            "[14,   300] loss: 0.004784\n",
            "[14,   400] loss: 0.004947\n",
            "[14,   500] loss: 0.004824\n",
            "[14,   600] loss: 0.005773\n",
            "[14,   700] loss: 0.005777\n",
            "[14,   800] loss: 0.005784\n",
            "[15,     0] loss: 0.001532\n",
            "[15,   100] loss: 0.005010\n",
            "[15,   200] loss: 0.005004\n",
            "[15,   300] loss: 0.004390\n",
            "[15,   400] loss: 0.004687\n",
            "[15,   500] loss: 0.004471\n",
            "[15,   600] loss: 0.004398\n",
            "[15,   700] loss: 0.004224\n",
            "[15,   800] loss: 0.004428\n",
            "[16,     0] loss: 0.000114\n",
            "[16,   100] loss: 0.005126\n",
            "[16,   200] loss: 0.004351\n",
            "[16,   300] loss: 0.003731\n",
            "[16,   400] loss: 0.003783\n",
            "[16,   500] loss: 0.004513\n",
            "[16,   600] loss: 0.004274\n",
            "[16,   700] loss: 0.004237\n",
            "[16,   800] loss: 0.004291\n",
            "[17,     0] loss: 0.000105\n",
            "[17,   100] loss: 0.005594\n",
            "[17,   200] loss: 0.005406\n",
            "[17,   300] loss: 0.004660\n",
            "[17,   400] loss: 0.005749\n",
            "[17,   500] loss: 0.005889\n",
            "[17,   600] loss: 0.005315\n",
            "[17,   700] loss: 0.004931\n",
            "[17,   800] loss: 0.004843\n",
            "[18,     0] loss: 0.001985\n",
            "[18,   100] loss: 0.003625\n",
            "[18,   200] loss: 0.004308\n",
            "[18,   300] loss: 0.004388\n",
            "[18,   400] loss: 0.004803\n",
            "[18,   500] loss: 0.005247\n",
            "[18,   600] loss: 0.005002\n",
            "[18,   700] loss: 0.005426\n",
            "[18,   800] loss: 0.005184\n",
            "[19,     0] loss: 0.000071\n",
            "[19,   100] loss: 0.003948\n",
            "[19,   200] loss: 0.004269\n",
            "[19,   300] loss: 0.004561\n",
            "[19,   400] loss: 0.003792\n",
            "[19,   500] loss: 0.004424\n",
            "[19,   600] loss: 0.004394\n",
            "[19,   700] loss: 0.004357\n",
            "[19,   800] loss: 0.004573\n"
          ]
        }
      ]
    },
    {
      "cell_type": "code",
      "source": [
        "!touch evaluate.py"
      ],
      "metadata": {
        "id": "G1hCUQIzlME8"
      },
      "execution_count": 22,
      "outputs": []
    },
    {
      "cell_type": "code",
      "source": [
        "!pip install onnx onnxruntime"
      ],
      "metadata": {
        "colab": {
          "base_uri": "https://localhost:8080/"
        },
        "id": "yhW6WCzxmZtr",
        "outputId": "c9297bf2-0b1b-44f8-beeb-0ac12d23f848"
      },
      "execution_count": 25,
      "outputs": [
        {
          "output_type": "stream",
          "name": "stdout",
          "text": [
            "Requirement already satisfied: onnx in /usr/local/lib/python3.10/dist-packages (1.15.0)\n",
            "Collecting onnxruntime\n",
            "  Downloading onnxruntime-1.16.1-cp310-cp310-manylinux_2_17_x86_64.manylinux2014_x86_64.whl (6.2 MB)\n",
            "\u001b[2K     \u001b[90m━━━━━━━━━━━━━━━━━━━━━━━━━━━━━━━━━━━━━━━━\u001b[0m \u001b[32m6.2/6.2 MB\u001b[0m \u001b[31m20.6 MB/s\u001b[0m eta \u001b[36m0:00:00\u001b[0m\n",
            "\u001b[?25hRequirement already satisfied: numpy in /usr/local/lib/python3.10/dist-packages (from onnx) (1.23.5)\n",
            "Requirement already satisfied: protobuf>=3.20.2 in /usr/local/lib/python3.10/dist-packages (from onnx) (3.20.3)\n",
            "Collecting coloredlogs (from onnxruntime)\n",
            "  Downloading coloredlogs-15.0.1-py2.py3-none-any.whl (46 kB)\n",
            "\u001b[2K     \u001b[90m━━━━━━━━━━━━━━━━━━━━━━━━━━━━━━━━━━━━━━━━\u001b[0m \u001b[32m46.0/46.0 kB\u001b[0m \u001b[31m5.1 MB/s\u001b[0m eta \u001b[36m0:00:00\u001b[0m\n",
            "\u001b[?25hRequirement already satisfied: flatbuffers in /usr/local/lib/python3.10/dist-packages (from onnxruntime) (23.5.26)\n",
            "Requirement already satisfied: packaging in /usr/local/lib/python3.10/dist-packages (from onnxruntime) (23.2)\n",
            "Requirement already satisfied: sympy in /usr/local/lib/python3.10/dist-packages (from onnxruntime) (1.12)\n",
            "Collecting humanfriendly>=9.1 (from coloredlogs->onnxruntime)\n",
            "  Downloading humanfriendly-10.0-py2.py3-none-any.whl (86 kB)\n",
            "\u001b[2K     \u001b[90m━━━━━━━━━━━━━━━━━━━━━━━━━━━━━━━━━━━━━━━━\u001b[0m \u001b[32m86.8/86.8 kB\u001b[0m \u001b[31m11.4 MB/s\u001b[0m eta \u001b[36m0:00:00\u001b[0m\n",
            "\u001b[?25hRequirement already satisfied: mpmath>=0.19 in /usr/local/lib/python3.10/dist-packages (from sympy->onnxruntime) (1.3.0)\n",
            "Installing collected packages: humanfriendly, coloredlogs, onnxruntime\n",
            "Successfully installed coloredlogs-15.0.1 humanfriendly-10.0 onnxruntime-1.16.1\n"
          ]
        }
      ]
    },
    {
      "cell_type": "code",
      "source": [
        "!python evaluate.py"
      ],
      "metadata": {
        "colab": {
          "base_uri": "https://localhost:8080/"
        },
        "id": "Je4icJNLpZ6O",
        "outputId": "840fbb6f-ada9-49e7-df37-619a4979f4fa"
      },
      "execution_count": 26,
      "outputs": [
        {
          "output_type": "stream",
          "name": "stdout",
          "text": [
            "========== PyTorch ==========\n",
            "Training accuracy: 99.8\n",
            "Validation accuracy: 97.9\n",
            "========== ONNX ==========\n",
            "Training accuracy: 99.9\n",
            "Validation accuracy: 97.7\n"
          ]
        }
      ]
    },
    {
      "cell_type": "code",
      "source": [
        "!touch camera.py"
      ],
      "metadata": {
        "id": "5OqDGZijp6Uh"
      },
      "execution_count": 27,
      "outputs": []
    },
    {
      "cell_type": "code",
      "source": [
        "!python camera.py"
      ],
      "metadata": {
        "id": "ZcAfVRewq2dq"
      },
      "execution_count": null,
      "outputs": []
    }
  ]
}