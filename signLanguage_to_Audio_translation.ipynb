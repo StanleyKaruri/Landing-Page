{
  "nbformat": 4,
  "nbformat_minor": 0,
  "metadata": {
    "colab": {
      "provenance": [],
      "authorship_tag": "ABX9TyOoSCDxguWoyA8Tw0UOLhm8",
      "include_colab_link": true
    },
    "kernelspec": {
      "name": "python3",
      "display_name": "Python 3"
    },
    "language_info": {
      "name": "python"
    }
  },
  "cells": [
    {
      "cell_type": "markdown",
      "metadata": {
        "id": "view-in-github",
        "colab_type": "text"
      },
      "source": [
        "<a href=\"https://colab.research.google.com/github/StanleyKaruri/Landing-Page/blob/main/signLanguage_to_Audio_translation.ipynb\" target=\"_parent\"><img src=\"https://colab.research.google.com/assets/colab-badge.svg\" alt=\"Open In Colab\"/></a>"
      ]
    },
    {
      "cell_type": "code",
      "execution_count": null,
      "metadata": {
        "id": "1pkcwln4ljy2"
      },
      "outputs": [],
      "source": [
        "!apt-get update\n",
        "!apt-get upgrade\n",
        "!apt-get install python3-venv"
      ]
    },
    {
      "cell_type": "code",
      "source": [
        "!mkdir SignLanguage"
      ],
      "metadata": {
        "id": "vJguKkJiolO_"
      },
      "execution_count": 2,
      "outputs": []
    },
    {
      "cell_type": "code",
      "source": [
        "!cd SignLanguage"
      ],
      "metadata": {
        "id": "Nwk_4Dd9ov9q"
      },
      "execution_count": 3,
      "outputs": []
    },
    {
      "cell_type": "code",
      "source": [
        "!python3 -m venv signlanguage"
      ],
      "metadata": {
        "id": "DUIWex8Uo6e4"
      },
      "execution_count": 4,
      "outputs": []
    },
    {
      "cell_type": "code",
      "source": [
        "!source signlanguage/bin/activate"
      ],
      "metadata": {
        "id": "W5C98yDvpMvk"
      },
      "execution_count": 5,
      "outputs": []
    },
    {
      "cell_type": "code",
      "source": [
        "!pip3 install torch torchvision"
      ],
      "metadata": {
        "id": "FeorBwLTprG2"
      },
      "execution_count": null,
      "outputs": []
    },
    {
      "cell_type": "code",
      "source": [
        "!pip install opencv-python-headless\n",
        "!apt-get install -y libsm6 libxext6 libxrender-dev\n",
        "!pip install numpy\n",
        "!pip install onnx\n"
      ],
      "metadata": {
        "id": "z89Mnxwrp0Zm"
      },
      "execution_count": null,
      "outputs": []
    },
    {
      "cell_type": "code",
      "source": [
        "!wget https://assets.digitalocean.com/articles/signlanguage_data/sign-language-mnist.tar.gz"
      ],
      "metadata": {
        "id": "YXVFXEsEsXwL"
      },
      "execution_count": null,
      "outputs": []
    },
    {
      "cell_type": "code",
      "source": [
        "!tar -xzf sign-language-mnist.tar.gz"
      ],
      "metadata": {
        "colab": {
          "base_uri": "https://localhost:8080/"
        },
        "id": "saq6gEIxs6Ma",
        "outputId": "99a78d67-e5cf-4fe9-f9b8-163e2f641b88"
      },
      "execution_count": 12,
      "outputs": [
        {
          "output_type": "stream",
          "name": "stdout",
          "text": [
            "tar: Ignoring unknown extended header keyword 'LIBARCHIVE.creationtime'\n",
            "tar: Ignoring unknown extended header keyword 'SCHILY.dev'\n",
            "tar: Ignoring unknown extended header keyword 'SCHILY.ino'\n",
            "tar: Ignoring unknown extended header keyword 'SCHILY.nlink'\n",
            "tar: Ignoring unknown extended header keyword 'SCHILY.dev'\n",
            "tar: Ignoring unknown extended header keyword 'SCHILY.ino'\n",
            "tar: Ignoring unknown extended header keyword 'SCHILY.nlink'\n",
            "tar: Ignoring unknown extended header keyword 'SCHILY.dev'\n",
            "tar: Ignoring unknown extended header keyword 'SCHILY.ino'\n",
            "tar: Ignoring unknown extended header keyword 'SCHILY.nlink'\n",
            "tar: Ignoring unknown extended header keyword 'SCHILY.dev'\n",
            "tar: Ignoring unknown extended header keyword 'SCHILY.ino'\n",
            "tar: Ignoring unknown extended header keyword 'SCHILY.nlink'\n",
            "tar: Ignoring unknown extended header keyword 'SCHILY.dev'\n",
            "tar: Ignoring unknown extended header keyword 'SCHILY.ino'\n",
            "tar: Ignoring unknown extended header keyword 'SCHILY.nlink'\n"
          ]
        }
      ]
    },
    {
      "cell_type": "code",
      "source": [
        "!touch dataset.py"
      ],
      "metadata": {
        "id": "nFj7gZfXtGcf"
      },
      "execution_count": 11,
      "outputs": []
    },
    {
      "cell_type": "code",
      "source": [
        "!python dataset.py"
      ],
      "metadata": {
        "colab": {
          "base_uri": "https://localhost:8080/"
        },
        "id": "C6sX38A1v77a",
        "outputId": "66ebb1f3-32d0-400a-b5c4-6204a67f6507"
      },
      "execution_count": 17,
      "outputs": [
        {
          "output_type": "stream",
          "name": "stdout",
          "text": [
            "{'image': tensor([[[[-1.6555, -2.0665, -1.7412,  ..., -0.0116,  0.0227,  0.0398],\n",
            "          [-1.8610, -2.0837, -1.6727,  ...,  0.0569,  0.0569,  0.0569],\n",
            "          [-2.0494, -2.1179, -1.6727,  ...,  0.0741,  0.0912,  0.0912],\n",
            "          ...,\n",
            "          [-1.4500, -1.4500, -1.3473,  ...,  0.5878,  0.6049,  0.6221],\n",
            "          [-1.4672, -1.4500, -1.3473,  ...,  0.6221,  0.6221,  0.6049],\n",
            "          [-1.5185, -1.4672, -1.3644,  ...,  0.5878,  0.5878,  0.6049]]],\n",
            "\n",
            "\n",
            "        [[[ 0.5536,  0.5707,  0.5878,  ...,  0.6049,  0.6049,  0.5878],\n",
            "          [ 0.6049,  0.6392,  0.6392,  ...,  0.6563,  0.6563,  0.6221],\n",
            "          [ 0.6563,  0.6906,  0.7077,  ...,  0.7077,  0.6906,  0.6734],\n",
            "          ...,\n",
            "          [-0.5424, -0.5424, -0.5082,  ..., -0.3712, -0.3198, -0.3369],\n",
            "          [-0.3883, -0.4226, -0.4226,  ..., -0.4226, -0.5082, -0.4397],\n",
            "          [-0.4226, -0.4568, -0.4397,  ..., -0.0801,  0.3994,  0.9817]]]]), 'label': tensor([[19.],\n",
            "        [ 9.]])}\n"
          ]
        }
      ]
    },
    {
      "cell_type": "code",
      "source": [],
      "metadata": {
        "id": "ZECxHWXGwLnc"
      },
      "execution_count": null,
      "outputs": []
    }
  ]
}